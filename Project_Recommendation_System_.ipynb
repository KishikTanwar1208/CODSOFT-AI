{
  "nbformat": 4,
  "nbformat_minor": 0,
  "metadata": {
    "colab": {
      "provenance": [],
      "authorship_tag": "ABX9TyOYXO4Udy5eQhUVWLADfE+Q",
      "include_colab_link": true
    },
    "kernelspec": {
      "name": "python3",
      "display_name": "Python 3"
    },
    "language_info": {
      "name": "python"
    }
  },
  "cells": [
    {
      "cell_type": "markdown",
      "metadata": {
        "id": "view-in-github",
        "colab_type": "text"
      },
      "source": [
        "<a href=\"https://colab.research.google.com/github/KishikTanwar1208/CODSOFT-AI/blob/main/Project_Recommendation_System_.ipynb\" target=\"_parent\"><img src=\"https://colab.research.google.com/assets/colab-badge.svg\" alt=\"Open In Colab\"/></a>"
      ]
    },
    {
      "cell_type": "code",
      "execution_count": 2,
      "metadata": {
        "colab": {
          "base_uri": "https://localhost:8080/"
        },
        "id": "2DDJgnpxNboA",
        "outputId": "439c4016-7ac6-435f-e627-c3a14217a08d"
      },
      "outputs": [
        {
          "output_type": "stream",
          "name": "stdout",
          "text": [
            "Recommend Pulp Fiction with a weighted rating of 4.00\n",
            "Recommend Fight Club with a weighted rating of 3.00\n",
            "Recommend The Shawshank Redemption with a weighted rating of 0.00\n"
          ]
        }
      ],
      "source": [
        "import numpy as np\n",
        "\n",
        "def cosine_similarity(user1, user2, user_ratings):\n",
        "    \"\"\"\n",
        "    Calculates cosine similarity between two users based on their movie ratings.\n",
        "\n",
        "    Args:\n",
        "        user1 (str): User ID.\n",
        "        user2 (str): User ID.\n",
        "        user_ratings (dict): Dictionary where keys are user IDs and values are lists of rated movies.\n",
        "\n",
        "    Returns:\n",
        "        float: Cosine similarity score between the two users.\n",
        "    \"\"\"\n",
        "    common_movies = set(user_ratings[user1]) & set(user_ratings[user2])\n",
        "    if not common_movies:\n",
        "        return 0\n",
        "    numerator = sum(user_ratings[user1][movie] * user_ratings[user2][movie] for movie in common_movies)\n",
        "    denominator = np.sqrt(sum(pow(user_ratings[user1][movie], 2) for movie in common_movies) * sum(pow(user_ratings[user2][movie], 2) for movie in common_movies))\n",
        "    return numerator / denominator\n",
        "\n",
        "def recommend_movies(user, user_ratings, k=3):\n",
        "    \"\"\"\n",
        "    Recommends movies for a user based on collaborative filtering.\n",
        "\n",
        "    Args:\n",
        "        user (str): User ID.\n",
        "        user_ratings (dict): Dictionary where keys are user IDs and values are lists of rated movies.\n",
        "        k (int, optional): Number of top recommendations to return. Defaults to 3.\n",
        "\n",
        "    Returns:\n",
        "        list: List of top-k recommended movies with their weighted ratings.\n",
        "    \"\"\"\n",
        "    # Find most similar users\n",
        "    similar_users = sorted(user_ratings, key=lambda u: cosine_similarity(user, u, user_ratings), reverse=True)[:k]\n",
        "    # Get recommendations from similar users (weighted by similarity score)\n",
        "    recommendations = {}\n",
        "    for neighbor in similar_users:\n",
        "        for movie, rating in user_ratings[neighbor].items():\n",
        "            if movie not in user_ratings[user]:\n",
        "                recommendations.setdefault(movie, 0)\n",
        "                recommendations[movie] += cosine_similarity(user, neighbor, user_ratings) * rating\n",
        "    # Return top-N recommendations with highest weighted ratings\n",
        "    return sorted(recommendations.items(), key=lambda item: item[1], reverse=True)[:k]\n",
        "\n",
        "# Example usage\n",
        "user_ratings = {\n",
        "    \"Alice\": {\"The Godfather\": 5, \"Pulp Fiction\": 4, \"Fight Club\": 3},\n",
        "    \"Bob\": {\"The Shawshank Redemption\": 5, \"The Lord of the Rings\": 4},\n",
        "    \"Charlie\": {\"The Godfather\": 5, \"The Dark Knight\": 4, \"Inception\": 3}\n",
        "}\n",
        "\n",
        "# Recommend movies for Charlie\n",
        "recommendations = recommend_movies(\"Charlie\", user_ratings)\n",
        "\n",
        "for movie, rating in recommendations:\n",
        "    print(f\"Recommend {movie} with a weighted rating of {rating:.2f}\")"
      ]
    }
  ]
}